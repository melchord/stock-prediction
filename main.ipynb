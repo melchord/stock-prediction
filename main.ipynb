{
 "cells": [
  {
   "cell_type": "markdown",
   "metadata": {},
   "source": [
    "# Problem Statement for Stock Market Prediction\n",
    "Machine Learning Algorithms are widely utilized by many organization in Stock Market prediction. We will do a simple implementation of analyzing and forecasting the stock prices of a Popular Wordwide Online Retail Store in Python using various Machine Learning Algorithms.\n",
    "\n",
    "In this section, we will examine the stock price of Microsoft Corporation (MSFT) as reported by the National Association of Securities Dealers Automated Quotations (NASDAQ) in the United States. The stock price data will be supplied as a Comma Separated Values (CSV) file.\n",
    "\n",
    "MSFT's stock price are listed on NASDAQ and their value is updated every working day of the stock market.The market does not allow trading on Saturdays and Sundays, therefore there is a gap between the two days. The Opening Value of the stock, the Highest and Lowest values of that stock on the same days, as well as the Closing Value at the end of the day are indicated for each date.\n",
    "\n",
    "The Adjusted Close Value reflects the stock's value after dividends have been declared. Furthermore, the total volume of the stocks in the market is provided. From this information provided, different algorithms must be developed that may extract patterns from the historical data of the Microsoft Corporation (MSFT) stock.\n",
    "\n",
    "# The Long Short Term Memory\n",
    "We will use the Long Short Term Memory (LSTM) algorithm to create a Machine Learning Model to forecast Microsoft Corporation (MSFT) stock prices. They are used to make minor changes to the information by multiplying and adding. Long-term memory (LSTM) is a deep learning artificial neural network (RNN) architecture.\n",
    "\n",
    "Unlike traditional feed-forward neural networks, LSTM has feedback connections. It can handle single data points (such as pictures) as well as full data sequences (such as speech or video)."
   ]
  },
  {
   "cell_type": "markdown",
   "metadata": {},
   "source": [
    "# Imnporting the Libraries"
   ]
  },
  {
   "cell_type": "code",
   "execution_count": null,
   "metadata": {},
   "outputs": [],
   "source": [
    "import pandas as pd\n",
    "import numpy as np\n",
    "import matplotlib.pylot as plt\n",
    "import matplotlib\n",
    "from sklearn.preprocessing import MinMaxScaler\n",
    "from keras.layers import LSTM, Dense, Dropout\n",
    "from sklearn.model_selection import TimeSeriesSplit\n",
    "from sklearn.metrics import mean_squared_error, r2_score\n",
    "import matplotlib.dates as mdates\n",
    "from sklearn import linear_model\n",
    "from keras.models import Sequential\n",
    "import keras.backend as K\n",
    "from keras.Cabacks import EarlyStopping\n",
    "from keras.Optimisers import Adam\n",
    "from keras.Models import load_model\n",
    "from keras.utils.vis_utils import plot_model"
   ]
  }
 ],
 "metadata": {
  "language_info": {
   "name": "python"
  },
  "orig_nbformat": 4
 },
 "nbformat": 4,
 "nbformat_minor": 2
}
